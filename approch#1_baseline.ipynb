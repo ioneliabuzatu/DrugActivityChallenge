{
 "cells": [
  {
   "cell_type": "code",
   "execution_count": 1,
   "metadata": {},
   "outputs": [],
   "source": [
    "import pandas as pd\n",
    "import numpy as np\n",
    "from numpy import inf\n",
    "\n",
    "import sklearn\n",
    "from sklearn.ensemble import RandomForestClassifier\n",
    "from sklearn.model_selection import train_test_split\n",
    "from sklearn.preprocessing import MinMaxScaler\n",
    "from sklearn.tree import DecisionTreeClassifier\n",
    "from sklearn.neighbors import KNeighborsClassifier\n",
    "\n",
    "seed=1234"
   ]
  },
  {
   "cell_type": "code",
   "execution_count": 2,
   "metadata": {},
   "outputs": [],
   "source": [
    "def load_and_clean_train_csv(filepath, test_size=0.2, normilize=False):\n",
    "    data = pd.read_csv(filepath,index_col=0)\n",
    "    \n",
    "    \n",
    "    data = data.replace([np.inf, -np.inf, np.nan], 0)\n",
    "    data = data.drop([\"smiles\"], axis=1)\n",
    "    cols= data.columns\n",
    "    \n",
    "    if normilize:\n",
    "        scaler = MinMaxScaler()\n",
    "        scaler.fit(data)\n",
    "        data = scaler.transform(data)\n",
    "        data = pd.DataFrame(data, columns=cols)\n",
    "    \n",
    "    \n",
    "    x = data.drop(['task1',\"task2\", \"task3\", \"task4\", \"task5\", \"task6\", \"task7\", \"task8\", \"task9\", \"task10\", \"task11\"],axis=1)\n",
    "    X = np.array(x)\n",
    "    y = np.array(data[['task1',\"task2\", \"task3\", \"task4\", \"task5\", \"task6\", \"task7\", \"task8\", \"task9\", \"task10\", \"task11\"]])\n",
    "    X_train, X_test, y_train, y_test = train_test_split(X, y, test_size=test_size, random_state=1)\n",
    "    \n",
    "    y_train = y_train.astype('float32')\n",
    "    X_train = X_train.astype(\"float32\")\n",
    "    X_test = X_test.astype(\"float32\")\n",
    "    \n",
    "    y_train[y_train == -inf] = 0.0\n",
    "    y_train[y_train == inf] = 0.0\n",
    "    X_train[X_train == -inf] = 0.0\n",
    "    X_train[X_train == inf] = 0.0\n",
    "    y_test[y_test == inf] = 0.0\n",
    "    y_test[y_test == -inf] = 0.0\n",
    "    X_test[X_test== inf] = 0.0\n",
    "    X_test[X_test== -inf] = 0.0\n",
    "    \n",
    "    return X_train, X_test, y_train, y_test"
   ]
  },
  {
   "cell_type": "code",
   "execution_count": 3,
   "metadata": {},
   "outputs": [],
   "source": [
    "def load_eval_csv(filepath, normilize=False):\n",
    "    data = pd.read_csv(filepath,index_col=0)\n",
    "    data = data.replace([np.inf, -np.inf, np.nan], 0)\n",
    "    data = data.drop(['smiles'],axis=1)\n",
    "    cols = data.columns\n",
    "    \n",
    "    if normilize:\n",
    "        scaler = MinMaxScaler()\n",
    "        scaler.fit(eval_data)\n",
    "        data = scaler.transform(eval_data)\n",
    "        data = pd.DataFrame(data, columns=cols)\n",
    "    \n",
    "    data = data.astype('float32')\n",
    "    data[data==-inf]=0.0\n",
    "    data[data==inf]=0.0\n",
    "    \n",
    "    return data"
   ]
  },
  {
   "cell_type": "code",
   "execution_count": 4,
   "metadata": {},
   "outputs": [],
   "source": [
    "def save_submission_file(predictions):\n",
    "    yhatdf = pd.DataFrame(predictions)\n",
    "    yhatdf.columns = ['task1',\"task2\", \"task3\", \"task4\", \"task5\", \"task6\", \"task7\", \"task8\", \"task9\", \"task10\", \"task11\"]\n",
    "    yhatdf.to_csv(\"./submission.csv\")"
   ]
  },
  {
   "cell_type": "markdown",
   "metadata": {},
   "source": [
    "## Loading the data "
   ]
  },
  {
   "cell_type": "code",
   "execution_count": 5,
   "metadata": {},
   "outputs": [],
   "source": [
    "X_train_descriptors, X_test_descriptors, y_train_descriptors, y_test_descriptors = load_and_clean_train_csv(\"./data/data_train_descriptors.csv\")\n",
    "X_train_fingerprints, X_test_fingerprints, y_train_fingerprints, y_test_fingerprints = load_and_clean_train_csv(\"./data/data_train_fingerprints.csv\")"
   ]
  },
  {
   "cell_type": "markdown",
   "metadata": {},
   "source": [
    "<h1 style=\"color:rgb(0,120,170)\">Random Forest (with descriptors)</h1>"
   ]
  },
  {
   "cell_type": "code",
   "execution_count": 6,
   "metadata": {},
   "outputs": [
    {
     "data": {
      "text/plain": [
       "0.8883333333333333"
      ]
     },
     "execution_count": 6,
     "metadata": {},
     "output_type": "execute_result"
    }
   ],
   "source": [
    "rf_model_descriptors = RandomForestClassifier(n_estimators=500, random_state=seed, n_jobs=-1, max_features=\"auto\", max_samples=2000, min_impurity_decrease = 0.0)\n",
    "rf_model_descriptors.fit(X_train_descriptors, y_train_descriptors)\n",
    "yhat = rf_model_descriptors.predict(X_test_descriptors)\n",
    "np.mean(y_test_descriptors == yhat)"
   ]
  },
  {
   "cell_type": "markdown",
   "metadata": {},
   "source": [
    "<h1 style=\"color:rgb(0,120,170)\">Random Forest (with fingerprints)</h1>"
   ]
  },
  {
   "cell_type": "code",
   "execution_count": 7,
   "metadata": {},
   "outputs": [
    {
     "name": "stdout",
     "output_type": "stream",
     "text": [
      "Accuracy:0.8686742424242424\n"
     ]
    }
   ],
   "source": [
    "rf_model_fingerprints = RandomForestClassifier(n_estimators=500, random_state=seed, max_samples=200)\n",
    "rf_model_fingerprints.fit(X_train_fingerprints, y_train_fingerprints)\n",
    "yhat = rf_model_fingerprints.predict(X_test_fingerprints)\n",
    "print(f\"Accuracy:{np.mean(y_test_fingerprints== yhat)}\")"
   ]
  },
  {
   "cell_type": "markdown",
   "metadata": {},
   "source": [
    "<h1 style=\"color:rgb(0,120,170)\">Decision Trees (with descriptors) </h1>"
   ]
  },
  {
   "cell_type": "code",
   "execution_count": 8,
   "metadata": {},
   "outputs": [
    {
     "name": "stdout",
     "output_type": "stream",
     "text": [
      "Accuracy:0.8806060606060606\n"
     ]
    }
   ],
   "source": [
    "model_decision_tree_descriptors = DecisionTreeClassifier(random_state=seed,  criterion=\"entropy\", min_samples_split=200, splitter=\"best\")\n",
    "model_decision_tree_descriptors.fit(X_train_descriptors, y_train_descriptors)\n",
    "predictions = model_decision_tree_descriptors.predict(X_test_descriptors)\n",
    "print(f\"Accuracy:{np.mean(y_test_descriptors== predictions)}\")"
   ]
  },
  {
   "cell_type": "markdown",
   "metadata": {},
   "source": [
    "<h1 style=\"color:rgb(0,120,170)\">Decision Trees (with fingerprints)</h1>"
   ]
  },
  {
   "cell_type": "code",
   "execution_count": 9,
   "metadata": {},
   "outputs": [
    {
     "name": "stdout",
     "output_type": "stream",
     "text": [
      "Accuracy:0.8651136363636364\n"
     ]
    }
   ],
   "source": [
    "model_decision_tree_descriptors = DecisionTreeClassifier(random_state=seed,  criterion=\"entropy\", min_samples_split=200, splitter=\"best\")\n",
    "model_decision_tree_descriptors.fit(X_train_fingerprints, y_train_fingerprints)\n",
    "predictions = model_decision_tree_descriptors.predict(X_test_fingerprints)\n",
    "print(f\"Accuracy:{np.mean(y_test_fingerprints== predictions)}\")"
   ]
  },
  {
   "cell_type": "markdown",
   "metadata": {},
   "source": [
    "<h1 style=\"color:rgb(0,120,170)\">K Neighbors Classifer (with descriptors)</h1>"
   ]
  },
  {
   "cell_type": "code",
   "execution_count": 10,
   "metadata": {},
   "outputs": [
    {
     "name": "stdout",
     "output_type": "stream",
     "text": [
      "Accuracy:0.8676515151515152\n"
     ]
    }
   ],
   "source": [
    "neigh_model_descriptors = KNeighborsClassifier(n_neighbors=600, weights=\"uniform\", n_jobs=-1, algorithm='brute', leaf_size=3)\n",
    "neigh_model_descriptors.fit(X_train_descriptors, y_train_descriptors)\n",
    "predictions = neigh_model_descriptors.predict(X_test_descriptors)\n",
    "print(f\"Accuracy:{np.mean(y_test_descriptors== predictions)}\")"
   ]
  },
  {
   "cell_type": "markdown",
   "metadata": {},
   "source": [
    "<h1 style=\"color:rgb(0,120,170)\">K Neighbors Classifer (with fingerprints)</h1>"
   ]
  },
  {
   "cell_type": "code",
   "execution_count": 11,
   "metadata": {},
   "outputs": [
    {
     "name": "stdout",
     "output_type": "stream",
     "text": [
      "Accuracy:0.8620454545454546\n"
     ]
    }
   ],
   "source": [
    "neigh_model_fingerprints = KNeighborsClassifier(n_neighbors=600, weights=\"uniform\", n_jobs=-1, algorithm='brute', leaf_size=3)\n",
    "neigh_model_fingerprints.fit(X_train_fingerprints, y_train_fingerprints)\n",
    "predictions = neigh_model_fingerprints.predict(X_test_fingerprints)\n",
    "print(f\"Accuracy:{np.mean(y_test_fingerprints == predictions)}\")"
   ]
  },
  {
   "cell_type": "markdown",
   "metadata": {},
   "source": [
    "# Save best model for submission"
   ]
  },
  {
   "cell_type": "code",
   "execution_count": 19,
   "metadata": {},
   "outputs": [
    {
     "name": "stdout",
     "output_type": "stream",
     "text": [
      "Saved submission file to ./submission.csv\n"
     ]
    }
   ],
   "source": [
    "eval_x = load_eval_csv(\"./data/data_test_descriptors.csv\")\n",
    "eval_predictions = rf_model_descriptors.predict(eval_x)\n",
    "save_submission_file(eval_predictions)\n",
    "print(\"Saved submission file to ./submission.csv\")"
   ]
  }
 ],
 "metadata": {
  "kernelspec": {
   "display_name": "Python 3",
   "language": "python",
   "name": "python3"
  },
  "language_info": {
   "codemirror_mode": {
    "name": "ipython",
    "version": 3
   },
   "file_extension": ".py",
   "mimetype": "text/x-python",
   "name": "python",
   "nbconvert_exporter": "python",
   "pygments_lexer": "ipython3",
   "version": "3.8.5"
  }
 },
 "nbformat": 4,
 "nbformat_minor": 4
}
