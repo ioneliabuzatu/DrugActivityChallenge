{
 "cells": [
  {
   "cell_type": "markdown",
   "metadata": {},
   "source": [
    "## Classifying smile tasks: a support sector regression model is trained on each task of the total 11 smiles tasks. "
   ]
  },
  {
   "cell_type": "code",
   "execution_count": 2,
   "metadata": {},
   "outputs": [
    {
     "name": "stdout",
     "output_type": "stream",
     "text": [
      "Requirement already satisfied: pandas in /home/ionelia/pycharm-projects/master/semester2/lifescience/summer/venvs/DrugActivityChallenge/lib/python3.7/site-packages (1.3.2)\n",
      "Requirement already satisfied: numpy in /home/ionelia/pycharm-projects/master/semester2/lifescience/summer/venvs/DrugActivityChallenge/lib/python3.7/site-packages (1.21.2)\n",
      "Requirement already satisfied: rdkit-pypi in /home/ionelia/pycharm-projects/master/semester2/lifescience/summer/venvs/DrugActivityChallenge/lib/python3.7/site-packages (2021.3.5)\n",
      "Requirement already satisfied: sklearn in /home/ionelia/pycharm-projects/master/semester2/lifescience/summer/venvs/DrugActivityChallenge/lib/python3.7/site-packages (0.0)\n",
      "Requirement already satisfied: imblearn in /home/ionelia/pycharm-projects/master/semester2/lifescience/summer/venvs/DrugActivityChallenge/lib/python3.7/site-packages (0.0)\n",
      "Requirement already satisfied: pytz>=2017.3 in /home/ionelia/pycharm-projects/master/semester2/lifescience/summer/venvs/DrugActivityChallenge/lib/python3.7/site-packages (from pandas) (2021.1)\n",
      "Requirement already satisfied: python-dateutil>=2.7.3 in /home/ionelia/pycharm-projects/master/semester2/lifescience/summer/venvs/DrugActivityChallenge/lib/python3.7/site-packages (from pandas) (2.8.2)\n",
      "Requirement already satisfied: scikit-learn in /home/ionelia/pycharm-projects/master/semester2/lifescience/summer/venvs/DrugActivityChallenge/lib/python3.7/site-packages (from sklearn) (0.24.2)\n",
      "Requirement already satisfied: imbalanced-learn in /home/ionelia/pycharm-projects/master/semester2/lifescience/summer/venvs/DrugActivityChallenge/lib/python3.7/site-packages (from imblearn) (0.8.0)\n",
      "Requirement already satisfied: six>=1.5 in /home/ionelia/pycharm-projects/master/semester2/lifescience/summer/venvs/DrugActivityChallenge/lib/python3.7/site-packages (from python-dateutil>=2.7.3->pandas) (1.16.0)\n",
      "Requirement already satisfied: joblib>=0.11 in /home/ionelia/pycharm-projects/master/semester2/lifescience/summer/venvs/DrugActivityChallenge/lib/python3.7/site-packages (from imbalanced-learn->imblearn) (1.0.1)\n",
      "Requirement already satisfied: scipy>=0.19.1 in /home/ionelia/pycharm-projects/master/semester2/lifescience/summer/venvs/DrugActivityChallenge/lib/python3.7/site-packages (from imbalanced-learn->imblearn) (1.7.1)\n",
      "Requirement already satisfied: threadpoolctl>=2.0.0 in /home/ionelia/pycharm-projects/master/semester2/lifescience/summer/venvs/DrugActivityChallenge/lib/python3.7/site-packages (from scikit-learn->sklearn) (2.2.0)\n"
     ]
    }
   ],
   "source": [
    "! pip install pandas numpy rdkit-pypi sklearn imblearn"
   ]
  },
  {
   "cell_type": "code",
   "execution_count": 1,
   "metadata": {
    "tags": []
   },
   "outputs": [],
   "source": [
    "from preprocessing import preprocess_smiles_data\n",
    "from svr import predict_drug_activity_with_svr\n",
    "import warnings\n",
    "warnings.filterwarnings('ignore')"
   ]
  },
  {
   "cell_type": "code",
   "execution_count": 2,
   "metadata": {},
   "outputs": [],
   "source": [
    "params = {\n",
    "    0: [{'kernel': 'rbf', 'gamma': 'auto', 'C': 0.1}, {'n_estimators': 2}],  \n",
    "    1: [{'kernel': \"rbf\"}, {'n_estimators': 2}],                    \n",
    "    2: [{'kernel': 'poly', 'gamma': 'auto', 'C': 0.1}, {'n_estimators': 2}],  \n",
    "    3: [{'kernel': 'poly', 'C': 0.1}, {'n_estimators': 2}], \n",
    "    4: [{'kernel': 'poly', 'degree': 6}, {'n_estimators': 2, 'bootstrap': False}],  \n",
    "    5: [{'kernel': 'rbf', 'C': 0.1}, {'n_estimators': 2, 'bootstrap_features': True}], \n",
    "    6: [{'kernel': 'linear'}, {'n_estimators': 2}],                    \n",
    "    7: [{'kernel': 'poly', 'C': 0.1}, {'n_estimators': 2}],           \n",
    "    8: [{'kernel': 'rbf'}, {'n_estimators': 2}],                     \n",
    "    9: [{'kernel': 'poly', 'C': 0.1}, {'n_estimators': 2}],         \n",
    "    10: [{'kernel': 'poly', 'degree': 6}, {'n_estimators': 10}]  \n",
    "}"
   ]
  },
  {
   "cell_type": "code",
   "execution_count": 3,
   "metadata": {},
   "outputs": [
    {
     "name": "stderr",
     "output_type": "stream",
     "text": [
      "RDKit WARNING: [19:42:01] WARNING: not removing hydrogen atom without neighbors\n",
      "[19:42:01] WARNING: not removing hydrogen atom without neighbors\n",
      "RDKit WARNING: [19:42:01] WARNING: not removing hydrogen atom without neighbors\n",
      "[19:42:01] WARNING: not removing hydrogen atom without neighbors\n",
      "RDKit WARNING: [19:42:01] WARNING: not removing hydrogen atom without neighbors\n",
      "RDKit WARNING: [19:42:01] WARNING: not removing hydrogen atom without neighbors\n",
      "[19:42:01] WARNING: not removing hydrogen atom without neighbors\n",
      "[19:42:01] WARNING: not removing hydrogen atom without neighbors\n",
      "RDKit WARNING: [19:42:12] WARNING: not removing hydrogen atom without neighbors\n",
      "[19:42:12] WARNING: not removing hydrogen atom without neighbors\n",
      "RDKit WARNING: [19:42:12] WARNING: not removing hydrogen atom without neighbors\n",
      "[19:42:12] WARNING: not removing hydrogen atom without neighbors\n",
      "RDKit WARNING: [19:42:14] WARNING: not removing hydrogen atom without neighbors\n",
      "[19:42:14] WARNING: not removing hydrogen atom without neighbors\n",
      "RDKit WARNING: [19:42:14] WARNING: not removing hydrogen atom without neighbors\n",
      "[19:42:14] WARNING: not removing hydrogen atom without neighbors\n"
     ]
    }
   ],
   "source": [
    "x_train, y, x_test, masks = preprocess_smiles_data( \n",
    "    filepath_data_train = \"./data/data_train.csv\", filepath_smiles_test = \"./data/smiles_test.csv\")"
   ]
  },
  {
   "cell_type": "code",
   "execution_count": 4,
   "metadata": {},
   "outputs": [
    {
     "name": "stdout",
     "output_type": "stream",
     "text": [
      "task 1 acc: 0.509 | mean so far...0.509\n",
      "task 2 acc: 0.924 | mean so far...0.717\n",
      "task 3 acc: 0.890 | mean so far...0.774\n",
      "task 4 acc: 0.644 | mean so far...0.742\n",
      "task 5 acc: 0.622 | mean so far...0.718\n",
      "task 6 acc: 0.674 | mean so far...0.710\n",
      "task 7 acc: 0.776 | mean so far...0.720\n",
      "task 8 acc: 0.515 | mean so far...0.694\n",
      "task 9 acc: 0.877 | mean so far...0.715\n",
      "task 10 acc: 0.713 | mean so far...0.714\n",
      "task 11 acc: 0.645 | mean so far...0.708\n",
      "mean acc:0.708 \n",
      "** Saving prediction csv file as `submission.csv` **\n"
     ]
    }
   ],
   "source": [
    "predict_drug_activity_with_svr(x_train, y, x_test, masks, params)"
   ]
  }
 ],
 "metadata": {
  "kernelspec": {
   "display_name": "future",
   "language": "python",
   "name": "future"
  },
  "language_info": {
   "codemirror_mode": {
    "name": "ipython",
    "version": 3
   },
   "file_extension": ".py",
   "mimetype": "text/x-python",
   "name": "python",
   "nbconvert_exporter": "python",
   "pygments_lexer": "ipython3",
   "version": "3.7.11"
  }
 },
 "nbformat": 4,
 "nbformat_minor": 4
}
